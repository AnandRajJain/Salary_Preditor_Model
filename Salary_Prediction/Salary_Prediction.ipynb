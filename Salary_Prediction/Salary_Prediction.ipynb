{
 "cells": [
  {
   "cell_type": "code",
   "execution_count": null,
   "metadata": {},
   "outputs": [],
   "source": []
  },
  {
   "cell_type": "code",
   "execution_count": 1,
   "metadata": {},
   "outputs": [],
   "source": [
    "import pandas as pd"
   ]
  },
  {
   "cell_type": "code",
   "execution_count": 2,
   "metadata": {},
   "outputs": [],
   "source": [
    "sal = pd.read_csv('salary_prediction.csv')"
   ]
  },
  {
   "cell_type": "code",
   "execution_count": 3,
   "metadata": {},
   "outputs": [],
   "source": [
    "x = sal['YearsExperience'].values.reshape(30,1)      "
   ]
  },
  {
   "cell_type": "code",
   "execution_count": 4,
   "metadata": {},
   "outputs": [],
   "source": [
    "y = sal['Salary']"
   ]
  },
  {
   "cell_type": "code",
   "execution_count": 5,
   "metadata": {},
   "outputs": [],
   "source": [
    "from sklearn.linear_model import LinearRegression\n",
    "salmodel = LinearRegression()\n",
    "from sklearn.model_selection import train_test_split"
   ]
  },
  {
   "cell_type": "code",
   "execution_count": 6,
   "metadata": {},
   "outputs": [],
   "source": [
    "X_train, X_test, y_train, y_test = train_test_split(x, y, test_size=0.33, random_state=42)"
   ]
  },
  {
   "cell_type": "code",
   "execution_count": 7,
   "metadata": {},
   "outputs": [
    {
     "data": {
      "text/plain": [
       "LinearRegression(copy_X=True, fit_intercept=True, n_jobs=None, normalize=False)"
      ]
     },
     "execution_count": 7,
     "metadata": {},
     "output_type": "execute_result"
    }
   ],
   "source": [
    "salmodel.fit(X_train , y_train)"
   ]
  },
  {
   "cell_type": "code",
   "execution_count": 8,
   "metadata": {},
   "outputs": [],
   "source": [
    "def sal_predict():\n",
    "    print(\"                                                                                                        \")\n",
    "    exp_years = float(input(\"Enter your experience in years:\"))\n",
    "    print(\"                                                                                                        \")\n",
    "    sal_predict = salmodel.predict([[exp_years]])\n",
    "    print(\"                                                                                                        \")\n",
    "    print(\"The salary for the submitted years of experience is : \",sal_predict)"
   ]
  },
  {
   "cell_type": "code",
   "execution_count": 10,
   "metadata": {},
   "outputs": [
    {
     "name": "stdout",
     "output_type": "stream",
     "text": [
      "----------------------------------Welcome to Salary Predictor Model-------------------------------------\n",
      "                                                                                                        \n",
      "                                                                                                        \n",
      "To Predict the Salary Please Type 'YES' and Type 'NO' to exit\n",
      "\n",
      " Please type your input : YES\n",
      "                                                                                                        \n",
      "Enter your experience in years:5\n",
      "                                                                                                        \n",
      "                                                                                                        \n",
      "The salary for the submitted years of experience is :  [72454.52922462]\n",
      "                                                                                                        \n",
      "To continue Predicting the Salary Please Type 'YES' and to Stop Predicting Please type 'NO'\n",
      "\n",
      " Please type your input : no\n",
      "\n",
      " Please re enter the input\n",
      "To continue Predicting the Salary Please Type 'YES' and to Stop Predicting Please type 'NO'\n",
      "\n",
      " Please type your input : YES\n",
      "                                                                                                        \n",
      "Enter your experience in years:4\n",
      "                                                                                                        \n",
      "                                                                                                        \n",
      "The salary for the submitted years of experience is :  [63028.49045554]\n",
      "                                                                                                        \n",
      "To continue Predicting the Salary Please Type 'YES' and to Stop Predicting Please type 'NO'\n",
      "\n",
      " Please type your input : NO\n",
      "                                                                                                        \n",
      "Thanks for using our Model\n"
     ]
    }
   ],
   "source": [
    "print(\"----------------------------------Welcome to Salary Predictor Model-------------------------------------\")\n",
    "print(\"                                                                                                        \")\n",
    "print(\"                                                                                                        \")\n",
    "print(\"To Predict the Salary Please Type 'YES' and Type 'NO' to exit\")\n",
    "while True:\n",
    "    #choice = input(\"\\n Please type  'Yes' to continue to prediction or type 'No' to end  the prediction: \")\n",
    "    choice = input(\"\\n Please type your input : \");\n",
    "    \n",
    "    if choice == \"YES\":\n",
    "        sal_predict()\n",
    "        print(\"                                                                                                        \")\n",
    "    elif choice == \"NO\":\n",
    "        print(\"                                                                                                        \")\n",
    "        print(\"Thanks for using our Model\")\n",
    "        break\n",
    "    else:\n",
    "        print(\"\\n Please re enter the input\")\n",
    "    print(\"To continue Predicting the Salary Please Type 'YES' and to Stop Predicting Please type 'NO'\")"
   ]
  },
  {
   "cell_type": "code",
   "execution_count": null,
   "metadata": {},
   "outputs": [],
   "source": []
  }
 ],
 "metadata": {
  "kernelspec": {
   "display_name": "Python 3",
   "language": "python",
   "name": "python3"
  },
  "language_info": {
   "codemirror_mode": {
    "name": "ipython",
    "version": 3
   },
   "file_extension": ".py",
   "mimetype": "text/x-python",
   "name": "python",
   "nbconvert_exporter": "python",
   "pygments_lexer": "ipython3",
   "version": "3.7.6"
  }
 },
 "nbformat": 4,
 "nbformat_minor": 4
}
